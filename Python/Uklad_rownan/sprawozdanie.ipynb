{
 "cells": [
  {
   "cell_type": "markdown",
   "metadata": {},
   "source": [
    "# <center>Rozwiązywanie układów równań</center>"
   ]
  },
  {
   "cell_type": "markdown",
   "metadata": {},
   "source": [
    "Instrukcja:\n",
    "Na zajęciach należy wykonać poniższe zadania, a następnie sporządzić sprawozdanie zawierające odpowiedzi (w postaci kodu) z komentarzami w środowisku Jupyter Notebook i umieścić je na platformie e-learningowej.   "
   ]
  },
  {
   "cell_type": "code",
   "execution_count": 1,
   "metadata": {},
   "outputs": [
    {
     "name": "stdout",
     "output_type": "stream",
     "text": [
      "([558455.892546468, 1454748.8880049167, 1679968.2434546144, 3075912.3341826918, 12854556.436565828], [558455.892546468, 1454748.8880049167, 1679968.2434546144, 3075912.3341826918, 12854556.436565828], [558455.892546468, 1454748.8880049167, 1679968.2434546144, 3075912.3341826918, 12854556.436565828])\n"
     ]
    }
   ],
   "source": [
    "import main\n",
    "\n",
    "import numpy as np\n",
    "import scipy \n",
    "import matplotlib\n",
    "import matplotlib.pyplot as plt"
   ]
  },
  {
   "cell_type": "markdown",
   "metadata": {},
   "source": [
    "**Cel zajęć:** Celem zajęć jest zapoznanie się z numerycznymi metodami rozwiązywania układów równań liniowych. To podstawowe zadanie algebry liniowej które macierzowo możemy zapisać jako:  \n",
    "  \n",
    "$\n",
    "\\mathbf{Ax}=\\mathbf{b}\n",
    "$ \n",
    "  \n",
    "gdzie $\\mathbf{A}$ - macierz współczynników, $\\mathbf{x}$ - wektor zmiennych a $\\mathbf{b}$ - wektor wyników prawej strony równania.  \n",
    "\n",
    "Do oceny jakości rozwiązania będziemy wykorzystywać residuum (ang. *residual*)\n",
    "$\n",
    "\\mathbf{r}=\\mathbf{b}-\\mathbf{Ax}\n",
    "$ \n",
    "  "
   ]
  },
  {
   "cell_type": "markdown",
   "metadata": {},
   "source": [
    "**Zadanie Domowe **   \n",
    " \n",
    "1. Zaimplementuj funkcje *random\\_matrix\\_Ab* według opisu w pliku main.py generującą macierz kwadratową $\\mathbf{A}$ i wektor $\\mathbf{b}$ o zadanych wymiarach odpowiednio $m\\times m$, $m\\times 1$ i o wartościach losowych. W tym celu skorzystaj z funkcji *[randint](https://docs.scipy.org/doc/numpy-1.15.1/reference/generated/numpy.random.randint.html)*. W razie podania nieprawidłowej wartości m funkcja ma zwrócić wartość None.\n",
    "\n",
    "2. Wygeneruj takie macierze dla $m=10,\\ 20,\\ 50,\\ 100,\\ 1000$. \n",
    "\n",
    "3. Zaimplementuj normę residual_norm zgodnie z opisem z main.py (używając *[norm](https://docs.scipy.org/doc/numpy-1.15.1/reference/generated/numpy.linalg.norm.html?highlight=norm#numpy.linalg.norm)*) \n"
   ]
  },
  {
   "cell_type": "code",
   "execution_count": 2,
   "metadata": {},
   "outputs": [],
   "source": [
    "a1, b1 = main.random_matrix_Ab(10)\n",
    "a2, b2 = main.random_matrix_Ab(20)\n",
    "a3, b3 = main.random_matrix_Ab(50)\n",
    "a4, b4 = main.random_matrix_Ab(100)\n",
    "a5, b5 = main.random_matrix_Ab(1000)\n",
    "\n",
    "a_list = [a1, a2, a3, a4, a5]\n",
    "b_list = [b1, b2, b3, b4, b5]"
   ]
  },
  {
   "cell_type": "markdown",
   "metadata": {},
   "source": [
    "***Zadanie 1***   \n",
    " \n",
    "1. Dla macierzy i wektorów wygenerowanych w poprzednim zadaniu znajdź rozwiązanie układu równań $\\mathbf{Ax}=\\mathbf{b}$ używając funkcji *[solve](https://docs.scipy.org/doc/numpy-1.15.1/reference/generated/numpy.linalg.solve.html?highlight=solve#numpy.linalg.solve)*. \n",
    "\n",
    "2. Sprawdź dokładność otrzymanego rozwiązania (oblicz normę residuum).\n",
    "\n",
    "3. Określ uwarunkowanie macierzy $\\mathbf{A}$ przy pomocy funkcji *[cond](https://docs.scipy.org/doc/numpy-1.15.1/reference/generated/numpy.linalg.cond.html?highlight=cond#numpy.linalg.cond)*. \n",
    "\n",
    "4. Odpowiedź na pytanie czy zakres wartości oraz wymiary macierzy mają wpływ na jakość otrzymanych wyników? \n",
    "\n",
    "5. Zbadać czas wykonania obliczeń przy pomocy funkcji *timeint*\n",
    "  "
   ]
  },
  {
   "cell_type": "code",
   "execution_count": 3,
   "metadata": {},
   "outputs": [
    {
     "name": "stdout",
     "output_type": "stream",
     "text": [
      "9.922189323510324e-14 \n",
      "\n",
      "8.603143935298084e-13 \n",
      "\n",
      "4.672493859657243e-13 \n",
      "\n",
      "1.1580094078827259e-11 \n",
      "\n",
      "7.996667681658456e-09 \n",
      "\n",
      "[121.88536038603995, 391.6577296269957, 822.512566572619, 3783.943711401974, 1117359.1859997758]\n",
      "\n",
      "czas rozwiazania rownania\n",
      "\n",
      "13.6 µs ± 1.69 µs per loop (mean ± std. dev. of 5 runs, 10 loops each)\n",
      "69.5 µs ± 7.97 µs per loop (mean ± std. dev. of 5 runs, 10 loops each)\n",
      "328 µs ± 47.5 µs per loop (mean ± std. dev. of 5 runs, 10 loops each)\n",
      "992 µs ± 253 µs per loop (mean ± std. dev. of 5 runs, 10 loops each)\n",
      "67.5 ms ± 18.4 ms per loop (mean ± std. dev. of 5 runs, 10 loops each)\n",
      "\n",
      "obliczanie normy residuum\n",
      "\n",
      "1.65 µs ± 728 ns per loop (mean ± std. dev. of 5 runs, 10 loops each)\n",
      "1.2 µs ± 265 ns per loop (mean ± std. dev. of 5 runs, 10 loops each)\n",
      "1.16 µs ± 231 ns per loop (mean ± std. dev. of 5 runs, 10 loops each)\n",
      "1.19 µs ± 263 ns per loop (mean ± std. dev. of 5 runs, 10 loops each)\n",
      "1.14 µs ± 128 ns per loop (mean ± std. dev. of 5 runs, 10 loops each)\n",
      "\n",
      "Uwarunkowanie macierzy\n",
      "\n",
      "44.6 µs ± 7.12 µs per loop (mean ± std. dev. of 5 runs, 10 loops each)\n",
      "64.6 µs ± 3.24 µs per loop (mean ± std. dev. of 5 runs, 10 loops each)\n",
      "278 µs ± 50.6 µs per loop (mean ± std. dev. of 5 runs, 10 loops each)\n",
      "2.17 ms ± 228 µs per loop (mean ± std. dev. of 5 runs, 10 loops each)\n",
      "742 ms ± 13.7 ms per loop (mean ± std. dev. of 5 runs, 10 loops each)\n"
     ]
    }
   ],
   "source": [
    "vector = [0, 0, 0, 0, 0]\n",
    "\n",
    "#1\n",
    "x1 = np.linalg.solve(a1, b1)\n",
    "x2 = np.linalg.solve(a2, b2)\n",
    "x3 = np.linalg.solve(a3, b3)\n",
    "x4 = np.linalg.solve(a4, b4)\n",
    "x5 = np.linalg.solve(a5, b5)\n",
    "\n",
    "x_list = [x1, x2, x3, x4, x5]\n",
    "#2\n",
    "norm = vector[:]\n",
    "\n",
    "norm[0] = main.residual_norm(a1, x1, b1)\n",
    "norm[1] = main.residual_norm(a2, x2, b2)\n",
    "norm[2] = main.residual_norm(a3, x3, b3)\n",
    "norm[3] = main.residual_norm(a4, x4, b4)\n",
    "norm[4] = main.residual_norm(a5, x5, b5)\n",
    "\n",
    "for x in norm:\n",
    "    print(x, \"\\n\")\n",
    "\n",
    "#3\n",
    "cond = vector[:]\n",
    "i = 0\n",
    "for a in a_list:\n",
    "    cond[i] = np.linalg.cond(a)\n",
    "    i += 1\n",
    "print(cond)\n",
    "\n",
    "#4\n",
    "#Wraz ze wzrostem wymiarów macierzy zwiększa się norma residuum oraz uwarunkowanie, onaczając jednocześnie utrate na jakości otrzymanych wyników\n",
    "\n",
    "#5\n",
    "\n",
    "time = np.zeros(len(a_list))\n",
    "\n",
    "\n",
    "print(\"\\nczas rozwiazania rownania\\n\")\n",
    "for i in range(len(a_list)):\n",
    "    saved_timing = %timeit -r 5 -n 10 -o np.linalg.solve(a_list[i], b_list[i])\n",
    "    time[i] = saved_timing.average\n",
    "\n",
    "print(\"\\nobliczanie normy residuum\\n\")\n",
    "for i in range(len(a_list)):\n",
    "    saved_timing = %timeit -r 5 -n 10 -o main.residual_norm(a_list[i], x_list, b_list[i])\n",
    "    time[i] = saved_timing.average\n",
    "\n",
    "print(\"\\nUwarunkowanie macierzy\\n\")\n",
    "for i in range(len(a_list)):\n",
    "    saved_timing = %timeit -r 5 -n 10 -o np.linalg.cond(a_list[i])\n",
    "    time[i] = saved_timing.average"
   ]
  },
  {
   "cell_type": "markdown",
   "metadata": {},
   "source": [
    "***Zadanie 2***  \n",
    "Rozkład dowolnej macierzy metodą  *[dekompozycji na wartości singularne](https://pl.wikipedia.org/wiki/Rozk%C5%82ad_wed%C5%82ug_warto%C5%9Bci_osobliwych)* można w Pythonie przeprowadzić przy pomocy funkcji *[svd](https://docs.scipy.org/doc/numpy-1.15.1/reference/generated/numpy.linalg.svd.html)*. Rozkład dla przykładowej macierzy obrazuje kod: "
   ]
  },
  {
   "cell_type": "code",
   "execution_count": 4,
   "metadata": {},
   "outputs": [
    {
     "name": "stdout",
     "output_type": "stream",
     "text": [
      "[6.4807407 0.        0.       ]\n",
      "Macierz A:\n",
      " [[1 2 3]\n",
      " [1 2 3]\n",
      " [1 2 3]]\n",
      "Macierz odtworzona z SVD:\n",
      " [[1. 2. 3.]\n",
      " [1. 2. 3.]\n",
      " [1. 2. 3.]]\n"
     ]
    }
   ],
   "source": [
    "import numpy as np\n",
    "import numpy.linalg as nplin\n",
    "\n",
    "A = np.array([[1,2,3],[1,2,3],[1,2,3]])\n",
    "\n",
    "# Użycie rozkładu SVD na macierzy A\n",
    "U,S,V = nplin.svd(A)\n",
    "\n",
    "print(S)\n",
    "# Odtworzenie macierzy A przy pomocy metody SVD\n",
    "A2 = np.dot(U * S, V)\n",
    " \n",
    "print(\"Macierz A:\\n {0}\".format(A))\n",
    "print(\"Macierz odtworzona z SVD:\\n {0}\".format(A2))"
   ]
  },
  {
   "cell_type": "markdown",
   "metadata": {},
   "source": [
    "Wykonaj następujące kroki:\n",
    "\n",
    "1. Zdefiniuj funkcję inicjalizujące wektory *wartości singularnych* w następujący sposób:\n"
   ]
  },
  {
   "cell_type": "markdown",
   "metadata": {},
   "source": [
    "- wektor nierosnących wartości singularnych w postaci wektora przestrzeni logarytmicznej, np:"
   ]
  },
  {
   "cell_type": "code",
   "execution_count": 5,
   "metadata": {},
   "outputs": [],
   "source": [
    "S1 = np.logspace(100, 1, num=3)\n"
   ]
  },
  {
   "cell_type": "markdown",
   "metadata": {},
   "source": [
    "- wektor nierosnących wartości singularnych, gdzie jedna wartość jest znacznie większa od pozostałych, np.:"
   ]
  },
  {
   "cell_type": "code",
   "execution_count": 6,
   "metadata": {},
   "outputs": [],
   "source": [
    "S2 = np.logspace(100, 1, num=3)\n",
    "S2[0] = S2[0]+100"
   ]
  },
  {
   "cell_type": "markdown",
   "metadata": {},
   "source": [
    "- wektor nierosnących wartości, gdzie jedna wartość jest znacznie mniejsza od pozostałych. "
   ]
  },
  {
   "cell_type": "code",
   "execution_count": 7,
   "metadata": {},
   "outputs": [],
   "source": [
    "S3 = np.logspace(100, 1, num=3)\n",
    "S3[-1] = S3[0]-100"
   ]
  },
  {
   "cell_type": "markdown",
   "metadata": {},
   "source": [
    "\n",
    "\n",
    "W celu inicjalizacji takich wektorów zaimplementuje funkcje:  \n",
    "    - *log\\_sing\\_value* zgodnie z opisem w main.py i użyciu funkcji *[logspace](https://docs.scipy.org/doc/numpy-1.15.1/reference/generated/numpy.logspace.html?highlight=logspace#numpy.logspace)*\n",
    "    - *order\\_sing\\_value* zgodnie z opisem w main.py\n",
    "\n",
    "2. Zdefiniuj funkcję *create_matrix_from_A* z pliku main, która dla zadanej macierzy A z *zadania 1* i wektorów warości singularnych z punktu 1. tego zadania będzie zwracać odtworzoną macierz z podmienionym wektorem warości singularnych przy pomocy metody SVD, jak w przykładzie:\n",
    " "
   ]
  },
  {
   "cell_type": "code",
   "execution_count": 8,
   "metadata": {},
   "outputs": [
    {
     "name": "stdout",
     "output_type": "stream",
     "text": [
      "Macierz pierwotna:\n",
      "[[1 2 3]\n",
      " [1 2 3]\n",
      " [1 2 3]]\n",
      "Macierz na podstawie wartości S1:\n",
      "[[1.5430335e+99 3.0860670e+99 4.6291005e+99]\n",
      " [1.5430335e+99 3.0860670e+99 4.6291005e+99]\n",
      " [1.5430335e+99 3.0860670e+99 4.6291005e+99]]\n",
      "Macierz na podstawie wartości S2:\n",
      "[[1.5430335e+99 3.0860670e+99 4.6291005e+99]\n",
      " [1.5430335e+99 3.0860670e+99 4.6291005e+99]\n",
      " [1.5430335e+99 3.0860670e+99 4.6291005e+99]]\n",
      "Macierz na podstawie wartości S3:\n",
      "[[-4.02045290e+99  3.94198798e+99  5.91298198e+99]\n",
      " [ 9.14289726e+99  1.91685719e+99  2.87528579e+99]\n",
      " [-4.93343857e+98  3.39935582e+99  5.09903374e+99]]\n"
     ]
    }
   ],
   "source": [
    "A = np.array([[1,2,3],[1,2,3],[1,2,3]])\n",
    "U,S,V = nplin.svd(A)\n",
    "\n",
    "A1 = np.dot(U * S1, V)\n",
    "A2 = np.dot(U * S2, V)\n",
    "A3 = np.dot(U * S3, V)\n",
    "print('Macierz pierwotna:')\n",
    "print(A)\n",
    "\n",
    "print('Macierz na podstawie wartości S1:')\n",
    "print(A1)\n",
    "\n",
    "print('Macierz na podstawie wartości S2:')\n",
    "print(A2)\n",
    "\n",
    "print('Macierz na podstawie wartości S3:')\n",
    "print(A3)"
   ]
  },
  {
   "cell_type": "code",
   "execution_count": 11,
   "metadata": {},
   "outputs": [],
   "source": [
    "cond1 = vector[:]\n",
    "cond2 = vector[:]\n",
    "cond3 = vector[:]\n",
    "matrixes1 = vector[:]\n",
    "matrixes2 = vector[:]\n",
    "matrixes3 = vector[:]\n",
    "\n",
    "n_list = [10, 20, 50, 100, 1000]\n",
    "\n",
    "s1_list = [main.log_sing_value(n, 0, 100) for n in n_list]\n",
    "s2_list = [main.order_sing_value(n, 5, 'gre') for n in n_list]\n",
    "s3_list = [main.order_sing_value(n, 5, 'low') for n in n_list]\n",
    "\n",
    "\n",
    "for i in range(len(a_list)):\n",
    "    matrixes1[i] = main.create_matrix_from_A(a_list[i], s1_list[i])\n",
    "    matrixes2[i] = main.create_matrix_from_A(a_list[i], s2_list[i])\n",
    "    matrixes3[i] = main.create_matrix_from_A(a_list[i], s3_list[i])\n"
   ]
  },
  {
   "cell_type": "markdown",
   "metadata": {},
   "source": [
    "\n",
    "\n",
    "3. Dla otrzymanych macierzy oblicz wartości współczynnika uwarunkowania. \n",
    "\n",
    "4. Odpowiedz na pytanie: czy konieczne jest wyliczanie macierzy aby to zrobić?\n",
    "\n",
    "5. Dla każdego $m$ sporządź wykres normy residuów rozwiązań i funkcji uwarunkowania macierzy. \n",
    "\n",
    "\n"
   ]
  },
  {
   "cell_type": "code",
   "execution_count": 16,
   "metadata": {},
   "outputs": [],
   "source": [
    "#3\n",
    "for i in range(len(a_list)):\n",
    "    cond1[i] = np.linalg.cond(matrixes1[i])\n",
    "    cond2[i] = np.linalg.cond(matrixes2[i])\n",
    "    cond3[i] = np.linalg.cond(matrixes3[i])\n",
    "#4\n"
   ]
  },
  {
   "cell_type": "code",
   "execution_count": 20,
   "metadata": {},
   "outputs": [
    {
     "data": {
      "image/png": "[encoded data removed]",
      "text/plain": [
       "<Figure size 640x480 with 1 Axes>"
      ]
     },
     "metadata": {},
     "output_type": "display_data"
    },
    {
     "data": {
      "image/png": "[encoded data removed]",
      "text/plain": [
       "<Figure size 640x480 with 1 Axes>"
      ]
     },
     "metadata": {},
     "output_type": "display_data"
    },
    {
     "data": {
      "image/png": "[encoded data removed]",
      "text/plain": [
       "<Figure size 640x480 with 1 Axes>"
      ]
     },
     "metadata": {},
     "output_type": "display_data"
    }
   ],
   "source": [
    "\n",
    "#5\n",
    "plt.plot(n_list, cond1)\n",
    "plt.xscale('log')\n",
    "plt.show()\n",
    "\n",
    "plt.plot(n_list, cond2)\n",
    "plt.xscale('log')\n",
    "plt.show()\n",
    "\n",
    "plt.plot(n_list, cond3)\n",
    "plt.xscale('log')\n",
    "plt.show()\n",
    "\n"
   ]
  },
  {
   "cell_type": "code",
   "execution_count": 21,
   "metadata": {},
   "outputs": [
    {
     "name": "stderr",
     "output_type": "stream",
     "text": [
      "c:\\Users\\revte\\AppData\\Local\\Programs\\Python\\Python39\\lib\\site-packages\\numpy\\linalg\\linalg.py:113: VisibleDeprecationWarning: Creating an ndarray from ragged nested sequences (which is a list-or-tuple of lists-or-tuples-or ndarrays with different lengths or shapes) is deprecated. If you meant to do this, you must specify 'dtype=object' when creating the ndarray.\n",
      "  new = asarray(a)\n"
     ]
    },
    {
     "ename": "UFuncTypeError",
     "evalue": "Cannot cast ufunc 'solve1' input 1 from dtype('O') to dtype('float64') with casting rule 'same_kind'",
     "output_type": "error",
     "traceback": [
      "\u001b[1;31m---------------------------------------------------------------------------\u001b[0m",
      "\u001b[1;31mUFuncTypeError\u001b[0m                            Traceback (most recent call last)",
      "Cell \u001b[1;32mIn [21], line 6\u001b[0m\n\u001b[0;32m      3\u001b[0m resi3 \u001b[39m=\u001b[39m vector[:]\n\u001b[0;32m      5\u001b[0m \u001b[39mfor\u001b[39;00m i \u001b[39min\u001b[39;00m \u001b[39mrange\u001b[39m(\u001b[39mlen\u001b[39m(matrixes1)):\n\u001b[1;32m----> 6\u001b[0m     x1_list \u001b[39m=\u001b[39m np\u001b[39m.\u001b[39mlinalg\u001b[39m.\u001b[39msolve(matrixes1[i], s1_list)\n\u001b[0;32m      7\u001b[0m     x2_list \u001b[39m=\u001b[39m np\u001b[39m.\u001b[39mlinalg\u001b[39m.\u001b[39msolve(matrixes2[i], s2_list)\n\u001b[0;32m      8\u001b[0m     x3_list \u001b[39m=\u001b[39m np\u001b[39m.\u001b[39mlinalg\u001b[39m.\u001b[39msolve(matrixes3[i], s3_list)\n",
      "File \u001b[1;32m<__array_function__ internals>:180\u001b[0m, in \u001b[0;36msolve\u001b[1;34m(*args, **kwargs)\u001b[0m\n",
      "File \u001b[1;32mc:\\Users\\revte\\AppData\\Local\\Programs\\Python\\Python39\\lib\\site-packages\\numpy\\linalg\\linalg.py:400\u001b[0m, in \u001b[0;36msolve\u001b[1;34m(a, b)\u001b[0m\n\u001b[0;32m    398\u001b[0m signature \u001b[39m=\u001b[39m \u001b[39m'\u001b[39m\u001b[39mDD->D\u001b[39m\u001b[39m'\u001b[39m \u001b[39mif\u001b[39;00m isComplexType(t) \u001b[39melse\u001b[39;00m \u001b[39m'\u001b[39m\u001b[39mdd->d\u001b[39m\u001b[39m'\u001b[39m\n\u001b[0;32m    399\u001b[0m extobj \u001b[39m=\u001b[39m get_linalg_error_extobj(_raise_linalgerror_singular)\n\u001b[1;32m--> 400\u001b[0m r \u001b[39m=\u001b[39m gufunc(a, b, signature\u001b[39m=\u001b[39;49msignature, extobj\u001b[39m=\u001b[39;49mextobj)\n\u001b[0;32m    402\u001b[0m \u001b[39mreturn\u001b[39;00m wrap(r\u001b[39m.\u001b[39mastype(result_t, copy\u001b[39m=\u001b[39m\u001b[39mFalse\u001b[39;00m))\n",
      "\u001b[1;31mUFuncTypeError\u001b[0m: Cannot cast ufunc 'solve1' input 1 from dtype('O') to dtype('float64') with casting rule 'same_kind'"
     ]
    }
   ],
   "source": [
    "\n",
    "resi1 = vector[:]\n",
    "resi2 = vector[:]\n",
    "resi3 = vector[:]\n",
    "\n",
    "for i in range(len(matrixes1)):\n",
    "    x1_list = np.linalg.solve(matrixes1[i], s1_list)\n",
    "    x2_list = np.linalg.solve(matrixes2[i], s2_list)\n",
    "    x3_list = np.linalg.solve(matrixes3[i], s3_list)\n",
    "\n",
    "for i in range(len(matrixes1)):\n",
    "    resi1[i] = main.residual_norm(matrixes1[i], x1_list, s1_list)\n",
    "    resi2[i] = main.residual_norm(matrixes2[i], x2_list, s2_list)\n",
    "    resi3[i] = main.residual_norm(matrixes3[i], x3_list, s3_list)\n",
    "    "
   ]
  },
  {
   "cell_type": "markdown",
   "metadata": {},
   "source": [
    "Materiały uzupełniające:\n",
    "- [Scipy Lecture Notes](http://www.scipy-lectures.org/index.html)\n",
    "- [NumPy for Matlab users](https://docs.scipy.org/doc/numpy/user/numpy-for-matlab-users.html#numpy-for-matlab-users)\n",
    "- [Python Tutorial - W3Schools](https://www.w3schools.com/python/default.asp)\n",
    "- [NumPy](https://www.numpy.org)\n",
    "- [Matplotlib](https://matplotlib.org/)\n",
    "- [Anaconda](https://www.anaconda.com/)\n",
    "- [Learn Python for Data Science](https://www.datacamp.com/learn-python-with-anaconda?utm_source=Anaconda_download&utm_campaign=datacamp_training&utm_medium=banner)\n",
    "- [Learn Python](https://www.learnpython.org/)\n",
    "- [Wujek Google](https://google.pl) i [Ciocia Wikipedia](https://pl.wikipedia.org/wiki/Wikipedia:Strona_g%C5%82%C3%B3wna)"
   ]
  }
 ],
 "metadata": {
  "kernelspec": {
   "display_name": "Python 3.9.5 64-bit",
   "language": "python",
   "name": "python3"
  },
  "language_info": {
   "codemirror_mode": {
    "name": "ipython",
    "version": 3
   },
   "file_extension": ".py",
   "mimetype": "text/x-python",
   "name": "python",
   "nbconvert_exporter": "python",
   "pygments_lexer": "ipython3",
   "version": "3.9.5"
  },
  "vscode": {
   "interpreter": {
    "hash": "aa2d204b0ae3f192b00d7d3fa271e75f27cc1d5ce809e87564efc9768179e520"
   }
  }
 },
 "nbformat": 4,
 "nbformat_minor": 2
}
